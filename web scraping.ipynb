{
 "cells": [
  {
   "cell_type": "markdown",
   "id": "12c732e6",
   "metadata": {},
   "source": [
    "# Web scraping\n"
   ]
  },
  {
   "cell_type": "markdown",
   "id": "961cebd1",
   "metadata": {},
   "source": [
    "### 1 tache a faire\n",
    "Etre capable de concevoir, realiser et deployer un Bot nomme Covid-Tracker Bot permettant le Suivi en temps reel de l'etat de contamination d'une region (Map + Chat)\n",
    "\n",
    "### 2 les package\n",
    "\n",
    "respecter les consigne du fichier `robot.txt`\n",
    "package to use:\n",
    "\n",
    "<ul>\n",
    "    <li>requests: requete https</li>\n",
    "    <li>BeautifulSoup: analyse Extraction des donnees</li>\n",
    "    <li>Pandas: manipulation des donnes</li>\n",
    "    <li>folium: Map</li>\n",
    "    <li>flask: python web server</li>\n",
    "    </ul>\n",
    "    .\n",
    "    .\n",
    "    .\n",
    "    \n",
    "    \n",
    "### 3 Deployer cette app\n",
    "        "
   ]
  }
 ],
 "metadata": {
  "kernelspec": {
   "display_name": "Python 3",
   "language": "python",
   "name": "python3"
  },
  "language_info": {
   "codemirror_mode": {
    "name": "ipython",
    "version": 3
   },
   "file_extension": ".py",
   "mimetype": "text/x-python",
   "name": "python",
   "nbconvert_exporter": "python",
   "pygments_lexer": "ipython3",
   "version": "3.8.8"
  }
 },
 "nbformat": 4,
 "nbformat_minor": 5
}
